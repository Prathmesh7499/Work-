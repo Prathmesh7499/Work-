{
  "nbformat": 4,
  "nbformat_minor": 0,
  "metadata": {
    "colab": {
      "provenance": [],
      "authorship_tag": "ABX9TyMl1lS17mZ7DHkNU1bmPuFi",
      "include_colab_link": true
    },
    "kernelspec": {
      "name": "python3",
      "display_name": "Python 3"
    },
    "language_info": {
      "name": "python"
    }
  },
  "cells": [
    {
      "cell_type": "markdown",
      "metadata": {
        "id": "view-in-github",
        "colab_type": "text"
      },
      "source": [
        "<a href=\"https://colab.research.google.com/github/Prathmesh7499/coursera/blob/main/Untitled12.ipynb\" target=\"_parent\"><img src=\"https://colab.research.google.com/assets/colab-badge.svg\" alt=\"Open In Colab\"/></a>"
      ]
    },
    {
      "cell_type": "code",
      "execution_count": null,
      "metadata": {
        "colab": {
          "base_uri": "https://localhost:8080/"
        },
        "id": "vjt4nHf4nXyH",
        "outputId": "c0132f46-4ce8-4705-b4f8-fcfd99bc3e18"
      },
      "outputs": [
        {
          "metadata": {
            "tags": null
          },
          "name": "stdout",
          "output_type": "stream",
          "text": [
            "sSelect the operation you want to perform \n",
            " 1: add element \n",
            " 2: remove element \n",
            " 3: show the stack\n",
            "your element is added ['45']\n",
            "sSelect the operation you want to perform \n",
            " 1: add element \n",
            " 2: remove element \n",
            " 3: show the stack\n",
            "your element is added ['45', '55']\n",
            "sSelect the operation you want to perform \n",
            " 1: add element \n",
            " 2: remove element \n",
            " 3: show the stack\n",
            "your element is added ['45', '55', '66']\n",
            "sSelect the operation you want to perform \n",
            " 1: add element \n",
            " 2: remove element \n",
            " 3: show the stack\n",
            "your element is removed 45\n",
            "your queue is ['55', '66']\n",
            "sSelect the operation you want to perform \n",
            " 1: add element \n",
            " 2: remove element \n",
            " 3: show the stack\n",
            "your element is removed 55\n",
            "your queue is ['66']\n",
            "sSelect the operation you want to perform \n",
            " 1: add element \n",
            " 2: remove element \n",
            " 3: show the stack\n",
            "your element is added ['66', '775']\n",
            "sSelect the operation you want to perform \n",
            " 1: add element \n",
            " 2: remove element \n",
            " 3: show the stack\n",
            "your queue is ['66', '775']\n",
            "sSelect the operation you want to perform \n",
            " 1: add element \n",
            " 2: remove element \n",
            " 3: show the stack\n"
          ]
        }
      ],
      "source": [
        "queue = []\n",
        "\n",
        "def enqueue():\n",
        "  element = input(\"Enter your element you want to add: \")\n",
        "  queue.append(element)\n",
        "  print(f\"your element is added {queue}\")\n",
        "\n",
        "def dequeue():\n",
        "  if not queue:\n",
        "    print(\"stack is empty!\")\n",
        "  else:\n",
        "    e = queue.pop(0)\n",
        "    print(f\"your element is removed {e}\")\n",
        "    print(f\"your queue is {queue}\")\n",
        "\n",
        "def show():\n",
        "  print(f\"your queue is {queue}\")\n",
        "\n",
        "\n",
        "while True:\n",
        "  print(\"sSelect the operation you want to perform \\n 1: add element \\n 2: remove element \\n 3: show the stack\")\n",
        "  choice = int(input(\"input your choice: \"))\n",
        "  if choice == 1:\n",
        "    enqueue()\n",
        "  elif choice == 2:\n",
        "    dequeue()\n",
        "  elif choice == 3:\n",
        "    show()\n",
        "  else:\n",
        "    print(\"You select the wrong choice! \")\n",
        "\n"
      ]
    }
  ]
}