{
 "cells": [
  {
   "cell_type": "code",
   "execution_count": 5,
   "id": "705960e2-d397-4ef6-a004-5584ea278303",
   "metadata": {},
   "outputs": [
    {
     "data": {
      "text/html": [
       "<div>\n",
       "<style scoped>\n",
       "    .dataframe tbody tr th:only-of-type {\n",
       "        vertical-align: middle;\n",
       "    }\n",
       "\n",
       "    .dataframe tbody tr th {\n",
       "        vertical-align: top;\n",
       "    }\n",
       "\n",
       "    .dataframe thead th {\n",
       "        text-align: right;\n",
       "    }\n",
       "</style>\n",
       "<table border=\"1\" class=\"dataframe\">\n",
       "  <thead>\n",
       "    <tr style=\"text-align: right;\">\n",
       "      <th></th>\n",
       "      <th>title</th>\n",
       "      <th>type</th>\n",
       "      <th>genres</th>\n",
       "      <th>releaseYear</th>\n",
       "      <th>imdbId</th>\n",
       "      <th>imdbAverageRating</th>\n",
       "      <th>imdbNumVotes</th>\n",
       "      <th>availableCountries</th>\n",
       "    </tr>\n",
       "  </thead>\n",
       "  <tbody>\n",
       "    <tr>\n",
       "      <th>0</th>\n",
       "      <td>Four Rooms</td>\n",
       "      <td>movie</td>\n",
       "      <td>Comedy</td>\n",
       "      <td>1995.0</td>\n",
       "      <td>tt0113101</td>\n",
       "      <td>6.7</td>\n",
       "      <td>112543.0</td>\n",
       "      <td>DE</td>\n",
       "    </tr>\n",
       "    <tr>\n",
       "      <th>1</th>\n",
       "      <td>Forrest Gump</td>\n",
       "      <td>movie</td>\n",
       "      <td>Drama, Romance</td>\n",
       "      <td>1994.0</td>\n",
       "      <td>tt0109830</td>\n",
       "      <td>8.8</td>\n",
       "      <td>2315370.0</td>\n",
       "      <td>AU, CA, DE, US</td>\n",
       "    </tr>\n",
       "    <tr>\n",
       "      <th>2</th>\n",
       "      <td>Citizen Kane</td>\n",
       "      <td>movie</td>\n",
       "      <td>Drama, Mystery</td>\n",
       "      <td>1941.0</td>\n",
       "      <td>tt0033467</td>\n",
       "      <td>8.3</td>\n",
       "      <td>472975.0</td>\n",
       "      <td>DE, GB</td>\n",
       "    </tr>\n",
       "    <tr>\n",
       "      <th>3</th>\n",
       "      <td>Metropolis</td>\n",
       "      <td>movie</td>\n",
       "      <td>Drama, Sci-Fi</td>\n",
       "      <td>1927.0</td>\n",
       "      <td>tt0017136</td>\n",
       "      <td>8.3</td>\n",
       "      <td>189469.0</td>\n",
       "      <td>GB</td>\n",
       "    </tr>\n",
       "    <tr>\n",
       "      <th>4</th>\n",
       "      <td>Kill Bill: Vol. 1</td>\n",
       "      <td>movie</td>\n",
       "      <td>Action, Crime, Thriller</td>\n",
       "      <td>2003.0</td>\n",
       "      <td>tt0266697</td>\n",
       "      <td>8.2</td>\n",
       "      <td>1221385.0</td>\n",
       "      <td>BR, CL, CO, MX</td>\n",
       "    </tr>\n",
       "  </tbody>\n",
       "</table>\n",
       "</div>"
      ],
      "text/plain": [
       "               title   type                   genres  releaseYear     imdbId  \\\n",
       "0         Four Rooms  movie                   Comedy       1995.0  tt0113101   \n",
       "1       Forrest Gump  movie           Drama, Romance       1994.0  tt0109830   \n",
       "2       Citizen Kane  movie           Drama, Mystery       1941.0  tt0033467   \n",
       "3         Metropolis  movie            Drama, Sci-Fi       1927.0  tt0017136   \n",
       "4  Kill Bill: Vol. 1  movie  Action, Crime, Thriller       2003.0  tt0266697   \n",
       "\n",
       "   imdbAverageRating  imdbNumVotes availableCountries  \n",
       "0                6.7      112543.0                 DE  \n",
       "1                8.8     2315370.0     AU, CA, DE, US  \n",
       "2                8.3      472975.0             DE, GB  \n",
       "3                8.3      189469.0                 GB  \n",
       "4                8.2     1221385.0     BR, CL, CO, MX  "
      ]
     },
     "execution_count": 5,
     "metadata": {},
     "output_type": "execute_result"
    }
   ],
   "source": [
    "import numpy as np \n",
    "import pandas as pd\n",
    "import seaborn as sns \n",
    "import matplotlib.pyplot as plt\n",
    "\n",
    "df = pd.read_csv('data.csv')\n",
    "df.head()"
   ]
  },
  {
   "cell_type": "code",
   "execution_count": 3,
   "id": "8aad79f0-3acd-47bf-bebc-e244b8241ea8",
   "metadata": {},
   "outputs": [
    {
     "data": {
      "text/plain": [
       "6.457555769658342"
      ]
     },
     "execution_count": 3,
     "metadata": {},
     "output_type": "execute_result"
    }
   ],
   "source": [
    "np.mean(df['imdbAverageRating'])"
   ]
  },
  {
   "cell_type": "code",
   "execution_count": 9,
   "id": "6da17a76-e1e1-497e-9ebb-e73b8fa64a1f",
   "metadata": {},
   "outputs": [
    {
     "data": {
      "image/png": "[encoded data removed]",
      "text/plain": [
       "<Figure size 640x480 with 1 Axes>"
      ]
     },
     "metadata": {},
     "output_type": "display_data"
    }
   ],
   "source": [
    "sns.histplot(x='releaseYear',data=df,bin = )\n",
    "plt.show()"
   ]
  },
  {
   "cell_type": "code",
   "execution_count": 28,
   "id": "f905143d-44e6-4cc7-ba2f-91b3fe96e5e4",
   "metadata": {},
   "outputs": [
    {
     "data": {
      "text/plain": [
       "8.1"
      ]
     },
     "execution_count": 28,
     "metadata": {},
     "output_type": "execute_result"
    }
   ],
   "source": [
    "min_range = df['imdbAverageRating'].min()\n",
    "max_range = df['imdbAverageRating'].max()\n",
    "range = max_range - min_range \n",
    "range"
   ]
  },
  {
   "cell_type": "markdown",
   "id": "4e2d80b8-fd2d-418d-9c25-f1610a0be760",
   "metadata": {},
   "source": []
  },
  {
   "cell_type": "code",
   "execution_count": 32,
   "id": "35da1932-b67d-45c3-86a6-47193beb88a1",
   "metadata": {},
   "outputs": [
    {
     "name": "stdout",
     "output_type": "stream",
     "text": [
      "[-4.23273642e+00  1.95736047e+02 -4.30850858e+01  1.34116259e+01\n",
      "  9.59663371e+01  8.50545683e+01  1.04549818e+02 -1.24537081e+02\n",
      "  1.21689441e+02 -8.64399803e+01  2.69646093e-02 -2.04467670e+00\n",
      " -2.29442371e+02  8.18399268e-01 -2.30920583e+01  4.09315748e+01\n",
      " -1.87559285e+02 -7.43355217e+00  1.46048996e+02 -3.75421913e+01\n",
      "  7.21982018e+01  3.84996761e+01 -3.98994747e+01  3.41720413e+01\n",
      " -2.83085178e+01  2.38121036e+01  3.14558080e+01  7.63242732e+01\n",
      "  3.07335745e+01  9.00568554e+01 -2.55487435e+01 -1.58202000e+02\n",
      "  9.48603718e+01 -2.35176030e+01  1.26280131e+02 -1.43376075e+02\n",
      "  6.49029340e+01 -8.32150991e+01  1.49156627e+02 -3.65978460e+01\n",
      " -1.16632910e+02 -2.17563073e+01 -5.03062766e+01  1.04969217e+02\n",
      "  2.81443302e+01 -5.69649446e+01 -2.67724319e+01 -2.17325119e+02\n",
      "  5.97980744e+00 -1.35238331e+02  1.08251914e+01 -1.43953338e+02\n",
      " -4.50489170e+01 -1.45272041e+01 -1.19348760e+02 -7.45592581e+01\n",
      "  7.15099129e+01  1.69359633e+01  8.02430186e+01  2.41153219e+02\n",
      " -1.20261963e+02 -5.51479936e+01  3.00271470e+02 -4.13947410e+01\n",
      "  3.30311954e+01 -7.87305376e+01  1.23810357e+02  1.18597225e+01\n",
      " -8.62738090e+01  2.28192987e+02  1.15078296e+01  1.13899734e+02\n",
      " -1.60408730e+02  1.51772688e+02 -1.33500577e+02  9.59201932e+00\n",
      " -9.13936483e+01  1.34438640e+02 -9.77482324e+01 -1.09887006e+02\n",
      "  1.38771473e+01 -1.28682761e+02 -1.53303934e+02 -3.31972552e+01\n",
      " -2.18378935e+02  3.32128182e+01  5.54786804e+01  3.08374358e+01\n",
      "  5.45111362e+01 -8.36577013e+01 -2.05187508e+01 -3.52266008e+01\n",
      "  2.75951863e+02 -2.42214460e+00 -1.38447848e+02  6.69190388e+00\n",
      " -6.27900177e+01 -1.02029957e+01 -7.34346800e+01  1.79654666e+02]\n"
     ]
    }
   ],
   "source": [
    "dd = np.random.normal(0,100,100)\n",
    "print(dd)"
   ]
  },
  {
   "cell_type": "code",
   "execution_count": 50,
   "id": "fb186a46-2db8-43d5-80eb-b1aa2a37d204",
   "metadata": {},
   "outputs": [
    {
     "data": {
      "text/html": [
       "<div>\n",
       "<style scoped>\n",
       "    .dataframe tbody tr th:only-of-type {\n",
       "        vertical-align: middle;\n",
       "    }\n",
       "\n",
       "    .dataframe tbody tr th {\n",
       "        vertical-align: top;\n",
       "    }\n",
       "\n",
       "    .dataframe thead th {\n",
       "        text-align: right;\n",
       "    }\n",
       "</style>\n",
       "<table border=\"1\" class=\"dataframe\">\n",
       "  <thead>\n",
       "    <tr style=\"text-align: right;\">\n",
       "      <th></th>\n",
       "      <th>x</th>\n",
       "    </tr>\n",
       "  </thead>\n",
       "  <tbody>\n",
       "    <tr>\n",
       "      <th>0</th>\n",
       "      <td>-4.232736</td>\n",
       "    </tr>\n",
       "    <tr>\n",
       "      <th>1</th>\n",
       "      <td>195.736047</td>\n",
       "    </tr>\n",
       "    <tr>\n",
       "      <th>2</th>\n",
       "      <td>-43.085086</td>\n",
       "    </tr>\n",
       "    <tr>\n",
       "      <th>3</th>\n",
       "      <td>13.411626</td>\n",
       "    </tr>\n",
       "    <tr>\n",
       "      <th>4</th>\n",
       "      <td>95.966337</td>\n",
       "    </tr>\n",
       "    <tr>\n",
       "      <th>...</th>\n",
       "      <td>...</td>\n",
       "    </tr>\n",
       "    <tr>\n",
       "      <th>95</th>\n",
       "      <td>6.691904</td>\n",
       "    </tr>\n",
       "    <tr>\n",
       "      <th>96</th>\n",
       "      <td>-62.790018</td>\n",
       "    </tr>\n",
       "    <tr>\n",
       "      <th>97</th>\n",
       "      <td>-10.202996</td>\n",
       "    </tr>\n",
       "    <tr>\n",
       "      <th>98</th>\n",
       "      <td>-73.434680</td>\n",
       "    </tr>\n",
       "    <tr>\n",
       "      <th>99</th>\n",
       "      <td>179.654666</td>\n",
       "    </tr>\n",
       "  </tbody>\n",
       "</table>\n",
       "<p>100 rows × 1 columns</p>\n",
       "</div>"
      ],
      "text/plain": [
       "             x\n",
       "0    -4.232736\n",
       "1   195.736047\n",
       "2   -43.085086\n",
       "3    13.411626\n",
       "4    95.966337\n",
       "..         ...\n",
       "95    6.691904\n",
       "96  -62.790018\n",
       "97  -10.202996\n",
       "98  -73.434680\n",
       "99  179.654666\n",
       "\n",
       "[100 rows x 1 columns]"
      ]
     },
     "execution_count": 50,
     "metadata": {},
     "output_type": "execute_result"
    }
   ],
   "source": [
    "ds = pd.DataFrame({\"x\": dd})\n",
    "ds"
   ]
  },
  {
   "cell_type": "code",
   "execution_count": 52,
   "id": "22c02fce-c5f1-458c-8c4f-688c709a7c83",
   "metadata": {},
   "outputs": [
    {
     "data": {
      "image/png": "[encoded data removed]",
      "text/plain": [
       "<Figure size 640x480 with 1 Axes>"
      ]
     },
     "metadata": {},
     "output_type": "display_data"
    }
   ],
   "source": [
    "sns.histplot(x=\"x\",data= ds)\n",
    "plt.show()"
   ]
  },
  {
   "cell_type": "code",
   "execution_count": 54,
   "id": "a08f5a43-2834-42fc-b2b8-c31825b174fc",
   "metadata": {},
   "outputs": [
    {
     "data": {
      "text/plain": [
       "x    0.362738\n",
       "dtype: float64"
      ]
     },
     "execution_count": 54,
     "metadata": {},
     "output_type": "execute_result"
    }
   ],
   "source": [
    "ds.skew()"
   ]
  }
 ],
 "metadata": {
  "kernelspec": {
   "display_name": "Python 3 (ipykernel)",
   "language": "python",
   "name": "python3"
  },
  "language_info": {
   "codemirror_mode": {
    "name": "ipython",
    "version": 3
   },
   "file_extension": ".py",
   "mimetype": "text/x-python",
   "name": "python",
   "nbconvert_exporter": "python",
   "pygments_lexer": "ipython3",
   "version": "3.12.4"
  }
 },
 "nbformat": 4,
 "nbformat_minor": 5
}
