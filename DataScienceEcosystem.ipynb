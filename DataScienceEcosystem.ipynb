{
 "cells": [
  {
   "cell_type": "markdown",
   "id": "bb941306-1c4f-4bb0-a69d-4e0b9f57655a",
   "metadata": {},
   "source": [
    "### Data Science Tools and Ecosystem"
   ]
  },
  {
   "cell_type": "markdown",
   "id": "6d7fe0f4-756f-4dfe-a56d-cbb43a204b0b",
   "metadata": {},
   "source": [
    "### In this notebook, Data Science Tools and Ecosystem are summarized."
   ]
  },
  {
   "cell_type": "markdown",
   "id": "82ca12c5-4ca0-4062-91e5-b2eaca2e2af9",
   "metadata": {},
   "source": [
    "### Some of the popular languages that Data Scientists use are:\n",
    "\n",
    "1. Python\n",
    "2. R\n",
    "3. SQL"
   ]
  },
  {
   "cell_type": "markdown",
   "id": "a8003554-38c1-4616-b9a9-b46fcfe29467",
   "metadata": {},
   "source": [
    "### Some of the commonly used libraries used by Data Scientists include:\n",
    "1. numpy\n",
    "2. pandas\n",
    "3. seaborn"
   ]
  },
  {
   "cell_type": "markdown",
   "id": "91d1a566-7900-40e6-b543-e75c62b23165",
   "metadata": {},
   "source": [
    "### Data Science Tools.\n",
    "jupyter notebook \n",
    "Rstudio\n",
    "Aapachi Zeppelin"
   ]
  },
  {
   "cell_type": "markdown",
   "id": "ec4f16ac-7b7c-4b07-89df-cff28a477553",
   "metadata": {},
   "source": [
    "### Below are a few examples of evaluating arithmetic expressions in Python\n"
   ]
  },
  {
   "cell_type": "code",
   "execution_count": 12,
   "id": "f4262850-d9ba-47fa-973d-0e73985d8c1d",
   "metadata": {},
   "outputs": [
    {
     "data": {
      "text/plain": [
       "17"
      ]
     },
     "execution_count": 12,
     "metadata": {},
     "output_type": "execute_result"
    }
   ],
   "source": [
    "#This a simple arithmetic expression to mutiply then add integers\n",
    "(3*4)+5"
   ]
  },
  {
   "cell_type": "code",
   "execution_count": 14,
   "id": "536f4382-100f-4fa4-936d-ddd72f3d0ec0",
   "metadata": {},
   "outputs": [
    {
     "data": {
      "text/plain": [
       "3.3333333333333335"
      ]
     },
     "execution_count": 14,
     "metadata": {},
     "output_type": "execute_result"
    }
   ],
   "source": [
    "#This will convert 200 minutes to hours by diving by 60\n",
    "\n",
    "minutes = 200\n",
    "hours = minutes / 60\n",
    "hours"
   ]
  },
  {
   "cell_type": "markdown",
   "id": "dfd3c983-dacb-43f5-ab0b-20efc024212d",
   "metadata": {},
   "source": [
    "### OBJECTIVES: \n",
    "  \n",
    "- Identify open source tools for data science\n",
    "- Convert time from minutes to hours\n",
    "- Learn about key libraries used in Data Science\n",
    "- Understand basic mathematical operations for data analysis\n",
    "- List popular languages for Data Science"
   ]
  },
  {
   "cell_type": "markdown",
   "id": "02fa1118-3a78-41b2-a741-484750c7cf47",
   "metadata": {},
   "source": [
    "### Author:\n",
    "PRATHMESH"
   ]
  },
  {
   "cell_type": "code",
   "execution_count": null,
   "id": "f6759a18-18b8-43a1-bee0-f06f79ac7ceb",
   "metadata": {},
   "outputs": [],
   "source": []
  }
 ],
 "metadata": {
  "kernelspec": {
   "display_name": "Python 3 (ipykernel)",
   "language": "python",
   "name": "python3"
  },
  "language_info": {
   "codemirror_mode": {
    "name": "ipython",
    "version": 3
   },
   "file_extension": ".py",
   "mimetype": "text/x-python",
   "name": "python",
   "nbconvert_exporter": "python",
   "pygments_lexer": "ipython3",
   "version": "3.12.4"
  }
 },
 "nbformat": 4,
 "nbformat_minor": 5
}
